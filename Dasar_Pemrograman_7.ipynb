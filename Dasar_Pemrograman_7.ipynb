{
  "nbformat": 4,
  "nbformat_minor": 0,
  "metadata": {
    "colab": {
      "name": "Dasar Pemrograman 7.ipynb",
      "provenance": [],
      "authorship_tag": "ABX9TyMJ6pTKfs+FvCcnBzn37ZRA",
      "include_colab_link": true
    },
    "kernelspec": {
      "name": "python3",
      "display_name": "Python 3"
    }
  },
  "cells": [
    {
      "cell_type": "markdown",
      "metadata": {
        "id": "view-in-github",
        "colab_type": "text"
      },
      "source": [
        "<a href=\"https://colab.research.google.com/github/TakiyaGenji2/Suzuran/blob/main/Dasar_Pemrograman_7.ipynb\" target=\"_parent\"><img src=\"https://colab.research.google.com/assets/colab-badge.svg\" alt=\"Open In Colab\"/></a>"
      ]
    },
    {
      "cell_type": "code",
      "metadata": {
        "id": "cVB4I8skdFtg"
      },
      "source": [
        "#Program hitung gaji karayawan oleh Muhammad Fahri Dika Yuda\r\n",
        "#Jangan lupa subricbe like komen dan share yaah....:)\r\n",
        "\r\n",
        "class karyawan:\r\n",
        "    \r\n",
        "    def __init__(self, nama, npk, jabatan) :\r\n",
        "        self.nama = nama\r\n",
        "        self.npk = npk\r\n",
        "        self.jabatan = jabatan\r\n",
        "        \r\n",
        "    def cetak_karyawan(self):\r\n",
        "        print(\"Nama karyawan : {}\".format(self.nama))\r\n",
        "        print(\"NPK karyawan  : {}\".format(self.npk))\r\n",
        "        print(\"Jabatan     : {}\".format(self.jabatan))\r\n",
        "        \r\n",
        "class gaji(karyawan):\r\n",
        "    \r\n",
        "    def __init__(self, nama, npk, jabatan):\r\n",
        "        \r\n",
        "        if jabatan == \"1\":\r\n",
        "            self.jabatan = \"Team Member\"\r\n",
        "            self.gaji = 5400000\r\n",
        "\r\n",
        "        elif jabatan == \"2\":\r\n",
        "            self.jabatan = \"Team Leader\"\r\n",
        "            self.gaji = 6000000\r\n",
        "\r\n",
        "        elif jabatan == \"3\":\r\n",
        "            self.jabatan = \"Foreman\"\r\n",
        "            self.gaji = 7000000\r\n",
        "\r\n",
        "        elif jabatan == \"4\":\r\n",
        "            self.jabatan = \"Supervisor\"\r\n",
        "            self.gaji = 9000000\r\n",
        "\r\n",
        "        elif jabatan == \"5\":\r\n",
        "            self.jabatan = \"Manager\"\r\n",
        "            self.gaji = 20000000\r\n",
        "        else:\r\n",
        "            print(\"Golongan tidak ada....:(\")\r\n",
        "            sys.exit()\r\n",
        "            \r\n",
        "        super().__init__(nama, npk, self.jabatan)\r\n",
        "        \r\n",
        "        \r\n",
        "    def cetak_gaji(self):\r\n",
        "        print(\"\\n============================================\\n\")\r\n",
        "        super().cetak_karyawan()\r\n",
        "        print(\"Gaji Pokok    : {}\".format(self.gaji))\r\n",
        "  \r\n",
        "        \r\n",
        "print(\"======== Program Hitung Gaji dengan Konsep PBO =========\")\r\n",
        "nama = input(\"Masukan nama karyawan    : \")\r\n",
        "npk = input(\"Masukan npk karyawan     : \")\r\n",
        "Jabatan = input(\"Masukan Jabatan [1/2/3/4/5] : \")\r\n",
        "\r\n",
        "\r\n",
        "gaji = gaji(nama, npk,Jabatan)\r\n",
        "gaji.cetak_gaji()"
      ],
      "execution_count": null,
      "outputs": []
    }
  ]
}