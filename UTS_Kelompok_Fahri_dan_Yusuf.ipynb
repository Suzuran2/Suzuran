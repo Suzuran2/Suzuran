{
  "nbformat": 4,
  "nbformat_minor": 0,
  "metadata": {
    "colab": {
      "name": "UTS Kelompok Fahri dan Yusuf.ipynb",
      "provenance": [],
      "include_colab_link": true
    },
    "kernelspec": {
      "name": "python3",
      "display_name": "Python 3"
    }
  },
  "cells": [
    {
      "cell_type": "markdown",
      "metadata": {
        "id": "view-in-github",
        "colab_type": "text"
      },
      "source": [
        "<a href=\"https://colab.research.google.com/github/TakiyaGenji2/Suzuran/blob/main/UTS_Kelompok_Fahri_dan_Yusuf.ipynb\" target=\"_parent\"><img src=\"https://colab.research.google.com/assets/colab-badge.svg\" alt=\"Open In Colab\"/></a>"
      ]
    },
    {
      "cell_type": "code",
      "metadata": {
        "id": "_IpoqUOErRRv",
        "outputId": "3ca6b743-963c-4bff-d8a6-676e3416411e",
        "colab": {
          "base_uri": "https://localhost:8080/"
        }
      },
      "source": [
        "#Program sukses Memperhatikan Agama supaya lulus memuaskan dari polines oleh Muhammad Fahri Dika Yuda dan Yusuf Taqiyuddin\r\n",
        "#Jangan lupa subscribe channel Jazirah Media like komen dan share yaah....:)\r\n",
        "\t\r\n",
        "class mahasiswa:\r\n",
        "    \r\n",
        "    def __init__(self, nama, nim, amalan) :\r\n",
        "        self.nama = nama\r\n",
        "        self.nim = nim\r\n",
        "        self.amalan = amalan\r\n",
        "        \r\n",
        "    def cetak_mahasiswa(self):\r\n",
        "        print(\"Nama Mahasiswa : {}\".format(self.nama))\r\n",
        "        print(\"NIM Mahasiswa  : {}\".format(self.nim))\r\n",
        "        print(\"Amalan         : {}\".format(self.amalan))\r\n",
        "        \r\n",
        "class amal(mahasiswa):\r\n",
        "    \r\n",
        "    def __init__(self, nama, nim, amalan):\r\n",
        "        \r\n",
        "        if amalan == \"1\":\r\n",
        "            self.amalan = \"Sholat\"\r\n",
        "            self.amal = \"Sholat (5 waktu berjamaah, Dhuha ,Rawatib, Qiyamullail, Tahajjud, Wudhu)\"\r\n",
        "\r\n",
        "        elif amalan == \"2\":\r\n",
        "            self.amalan = \"Bakti Anak Kepada Orang Tua\"\r\n",
        "            self.amal = \"Mendoakan kedua orang tua, Memperlakukan mereka seperti Raja, Mencuci piring dan baju\"\r\n",
        "\r\n",
        "        elif amalan == \"3\":\r\n",
        "            self.amalan = \"Sedekah\"\r\n",
        "            self.amal = \"Tersenyum, beramal dengan uang, maupun tenaga\"\r\n",
        "       \r\n",
        "        elif amalan == \"4\":\r\n",
        "            self.amalan = \"Memudahkan Urusan Orang Lain\"\r\n",
        "            self.amal = \"Siapapun yang memudahkan urusan suadaranya maka Allah lebih mudahkan urusannya \"\r\n",
        "\r\n",
        "        elif amalan == \"5\":\r\n",
        "            self.amalan = \"Belajar\"\r\n",
        "            self.amal = \"Belajar Ilmu dunia dan Agama terjadwal\"\r\n",
        "        else:\r\n",
        "            print(\"Kunci lain tidak ada....:(\")\r\n",
        "            sys.exit()\r\n",
        "            \r\n",
        "        super().__init__(nama, nim, self.amalan)\r\n",
        "        \r\n",
        "        \r\n",
        "    def cetak_amal(self):\r\n",
        "        print(\"\\n============================================\\n\")\r\n",
        "        super().cetak_mahasiswa()\r\n",
        "        print(\"Bentuk Amalan  : {}\".format(self.amal))\r\n",
        "        print(\"\")\r\n",
        "        print(\"======== Program Amalan yang Mempengaruhi Kesuksesan Mahasiswa Muslim saat kuliah=========\")\r\n",
        "nama = input(\"Masukan Nama Mahasiswa  : \")\r\n",
        "nim = input (\"Masukan NIM Mahasiswa   : \")\r\n",
        "print(\"\")\r\n",
        "print(\"1. Sholat\")\r\n",
        "print(\"2. Bakti kepada Orang Tua\")\r\n",
        "print(\"3. Sedekah\")\r\n",
        "print(\"4. Memudahkan Urusan Orang Lain\")\r\n",
        "print(\"5. Belajar\")\r\n",
        "amalan = input(\"Masukan pilihan amalan [1/2/3/4/5] : \")\r\n",
        "\r\n",
        "amal = amal(nama, nim , amalan)\r\n",
        "amal.cetak_amal()\r\n"
      ],
      "execution_count": 9,
      "outputs": [
        {
          "output_type": "stream",
          "text": [
            "Masukan Nama Mahasiswa  : yusuf\n",
            "Masukan NIM Mahasiswa   : 12\n",
            "\n",
            "1. Sholat\n",
            "2. Bakti kepada Orang Tua\n",
            "3. Sedekah\n",
            "4. Memudahkan Urusan Orang Lain\n",
            "5. Belajar\n",
            "Masukan pilihan amalan [1/2/3/4/5] : 1\n",
            "\n",
            "============================================\n",
            "\n",
            "Nama Mahasiswa : yusuf\n",
            "NIM Mahasiswa  : 12\n",
            "Amalan         : Sholat\n",
            "Bentuk Amalan  : Sholat (5 waktu berjamaah, Dhuha ,Rawatib, Qiyamullail, Tahajjud, Wudhu)\n",
            "\n",
            "======== Program Amalan yang Mempengaruhi Kesuksesan Mahasiswa Muslim saat kuliah=========\n"
          ],
          "name": "stdout"
        }
      ]
    }
  ]
}