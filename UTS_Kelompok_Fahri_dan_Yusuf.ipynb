{
  "nbformat": 4,
  "nbformat_minor": 0,
  "metadata": {
    "colab": {
      "name": "UTS Kelompok Fahri dan Yusuf.ipynb",
      "provenance": [],
      "authorship_tag": "ABX9TyPBDn1DYq3G793PwdOr/d0o",
      "include_colab_link": true
    },
    "kernelspec": {
      "name": "python3",
      "display_name": "Python 3"
    }
  },
  "cells": [
    {
      "cell_type": "markdown",
      "metadata": {
        "id": "view-in-github",
        "colab_type": "text"
      },
      "source": [
        "<a href=\"https://colab.research.google.com/github/TakiyaGenji2/Suzuran/blob/main/UTS_Kelompok_Fahri_dan_Yusuf.ipynb\" target=\"_parent\"><img src=\"https://colab.research.google.com/assets/colab-badge.svg\" alt=\"Open In Colab\"/></a>"
      ]
    },
    {
      "cell_type": "code",
      "metadata": {
        "id": "_IpoqUOErRRv"
      },
      "source": [
        "#Program sukses Memperhatikan Agama supaya lulus memuaskan dari polines oleh Muhammad Fahri Dika Yuda dan Yusuf Taqiyuddin\r\n",
        "#Jangan lupa subscribe channel Jazirah Media like komen dan share yaah....:)\r\n",
        "\t\r\n",
        "class mahasiswa:\r\n",
        "    \r\n",
        "    def __init__(self, nama, nim, amalan) :\r\n",
        "        self.nama = nama\r\n",
        "        self.nim = nim\r\n",
        "        self.amalan = amalan\r\n",
        "        \r\n",
        "    def cetak_mahasiswa(self):\r\n",
        "        print(\"Nama Mahasiswa : {}\".format(self.nama))\r\n",
        "        print(\"NIM Mahasiswa  : {}\".format(self.nim))\r\n",
        "        print(\"Amalan     : {}\".format(self.amalan))\r\n",
        "        \r\n",
        "class amal(mahasiswa):\r\n",
        "    \r\n",
        "    def __init__(self, nama, nim, amalan ):\r\n",
        "        \r\n",
        "        if amalan == \"1\":\r\n",
        "            self.amalan = \"Sholat\"\r\n",
        "            self.amal = \"Sholat (5 waktu berjamaah, Dhuha ,Rawatib, Qiyamullail, Tahajjud, Wudhu)\"\r\n",
        "\r\n",
        "        elif amalan == \"2\":\r\n",
        "            self.amalan = \"Bakti Anak Kepada Orang Tua\"\r\n",
        "            self.amal = \"Mendoakan kedua orang tua, Memperlakukan mereka seperti Raja, Mencuci piring dan baju\"\r\n",
        "\r\n",
        "        elif amalan == \"3\":\r\n",
        "            self.amalan = \"Sedekah\"\r\n",
        "            self.amal = \"Tersenyum, beramal dengan uang, maupun tenaga\"\r\n"
      ],
      "execution_count": null,
      "outputs": []
    }
  ]
}