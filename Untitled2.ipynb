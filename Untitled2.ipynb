{
  "nbformat": 4,
  "nbformat_minor": 0,
  "metadata": {
    "colab": {
      "name": "Untitled2.ipynb",
      "provenance": [],
      "authorship_tag": "ABX9TyN30mi8xsHn8y+DhaK/1FkU",
      "include_colab_link": true
    },
    "kernelspec": {
      "name": "python3",
      "display_name": "Python 3"
    }
  },
  "cells": [
    {
      "cell_type": "markdown",
      "metadata": {
        "id": "view-in-github",
        "colab_type": "text"
      },
      "source": [
        "<a href=\"https://colab.research.google.com/github/TakiyaGenji2/Suzuran/blob/main/Untitled2.ipynb\" target=\"_parent\"><img src=\"https://colab.research.google.com/assets/colab-badge.svg\" alt=\"Open In Colab\"/></a>"
      ]
    },
    {
      "cell_type": "code",
      "metadata": {
        "colab": {
          "base_uri": "https://localhost:8080/"
        },
        "id": "5Icy2Wtow-0n",
        "outputId": "33b41a35-c298-43b7-e926-4fc1e7b591d9"
      },
      "source": [
        "#import the pandas Library\n",
        "import pandas as pd\n",
        "\n",
        "ipl_data= {'Team':['riders','riders','devils','devils','kings','kings','kings','kings','riders','royals','royals','riders'],\n",
        "           'Rank':[1,2,2,3,3,4,1,1,2,4,1,2],\n",
        "           'Year':[2014,2015,2014,2015,2014,2015,2016,2017,2016,2014,2015,2017],\n",
        "           'Points':[876,789,863,673,741,812,756,788,694,701,804,690]}\n",
        "df=pd.DataFrame(ipl_data)\n",
        "print(df)"
      ],
      "execution_count": null,
      "outputs": [
        {
          "output_type": "stream",
          "text": [
            "      Team  Rank  Year  Points\n",
            "0   riders     1  2014     876\n",
            "1   riders     2  2015     789\n",
            "2   devils     2  2014     863\n",
            "3   devils     3  2015     673\n",
            "4    kings     3  2014     741\n",
            "5    kings     4  2015     812\n",
            "6    kings     1  2016     756\n",
            "7    kings     1  2017     788\n",
            "8   riders     2  2016     694\n",
            "9   royals     4  2014     701\n",
            "10  royals     1  2015     804\n",
            "11  riders     2  2017     690\n"
          ],
          "name": "stdout"
        }
      ]
    },
    {
      "cell_type": "code",
      "metadata": {
        "colab": {
          "base_uri": "https://localhost:8080/"
        },
        "id": "WzS15yoHzRNY",
        "outputId": "2086bb5b-7ef0-4a06-cd05-ae5eedc1251b"
      },
      "source": [
        "#import the pandas library\n",
        "import pandas as pd\n",
        "\n",
        "ipl_data= {'Team':['riders','riders','devils','devils','kings','kings','kings','kings','riders','royals','royals','riders'],\n",
        "           'Rank':[1,2,2,3,3,4,1,1,2,4,1,2],\n",
        "           'Year':[2014,2015,2014,2015,2014,2015,2016,2017,2016,2014,2015,2017],\n",
        "           'Points':[876,789,863,673,741,812,756,788,694,701,804,690]}\n",
        "df=pd.DataFrame(ipl_data)\n",
        "print(df.groupby('Team').groups)"
      ],
      "execution_count": 1,
      "outputs": [
        {
          "output_type": "stream",
          "text": [
            "{'devils': [2, 3], 'kings': [4, 5, 6, 7], 'riders': [0, 1, 8, 11], 'royals': [9, 10]}\n"
          ],
          "name": "stdout"
        }
      ]
    },
    {
      "cell_type": "code",
      "metadata": {
        "colab": {
          "base_uri": "https://localhost:8080/"
        },
        "id": "v7FWQL8t0P5a",
        "outputId": "af10b771-86c0-4147-b7b1-724d2b45a945"
      },
      "source": [
        "#import the pandas library\n",
        "import pandas as pd\n",
        "\n",
        "ipl_data= {'Team':['riders','riders','devils','devils','kings','kings','kings','kings','riders','royals','royals','riders'],\n",
        "           'Rank':[1,2,2,3,3,4,1,1,2,4,1,2],\n",
        "           'Year':[2014,2015,2014,2015,2014,2015,2016,2017,2016,2014,2015,2017],\n",
        "           'Points':[876,789,863,673,741,812,756,788,694,701,804,690]}\n",
        "df=pd.DataFrame(ipl_data)\n",
        "print(df.groupby(['Team','Year']).groups)"
      ],
      "execution_count": 3,
      "outputs": [
        {
          "output_type": "stream",
          "text": [
            "{('devils', 2014): [2], ('devils', 2015): [3], ('kings', 2014): [4], ('kings', 2015): [5], ('kings', 2016): [6], ('kings', 2017): [7], ('riders', 2014): [0], ('riders', 2015): [1], ('riders', 2016): [8], ('riders', 2017): [11], ('royals', 2014): [9], ('royals', 2015): [10]}\n"
          ],
          "name": "stdout"
        }
      ]
    },
    {
      "cell_type": "code",
      "metadata": {
        "colab": {
          "base_uri": "https://localhost:8080/"
        },
        "id": "p6gALX4w0wwV",
        "outputId": "4cae6447-62d6-4531-9256-54f36a6a9611"
      },
      "source": [
        "#import the pandas library\n",
        "import pandas as pd\n",
        "\n",
        "ipl_data= {'Team':['riders','riders','devils','devils','kings','kings','kings','kings','riders','royals','royals','riders'],\n",
        "           'Rank':[1,2,2,3,3,4,1,1,2,4,1,2],\n",
        "           'Year':[2014,2015,2014,2015,2014,2015,2016,2017,2016,2014,2015,2017],\n",
        "           'Points':[876,789,863,673,741,812,756,788,694,701,804,690]}\n",
        "df=pd.DataFrame(ipl_data)\n",
        "grouped=df.groupby('Year')\n",
        "\n",
        "for name,group in grouped:\n",
        "  print(name)\n",
        "  print(group)"
      ],
      "execution_count": 4,
      "outputs": [
        {
          "output_type": "stream",
          "text": [
            "2014\n",
            "     Team  Rank  Year  Points\n",
            "0  riders     1  2014     876\n",
            "2  devils     2  2014     863\n",
            "4   kings     3  2014     741\n",
            "9  royals     4  2014     701\n",
            "2015\n",
            "      Team  Rank  Year  Points\n",
            "1   riders     2  2015     789\n",
            "3   devils     3  2015     673\n",
            "5    kings     4  2015     812\n",
            "10  royals     1  2015     804\n",
            "2016\n",
            "     Team  Rank  Year  Points\n",
            "6   kings     1  2016     756\n",
            "8  riders     2  2016     694\n",
            "2017\n",
            "      Team  Rank  Year  Points\n",
            "7    kings     1  2017     788\n",
            "11  riders     2  2017     690\n"
          ],
          "name": "stdout"
        }
      ]
    },
    {
      "cell_type": "code",
      "metadata": {
        "colab": {
          "base_uri": "https://localhost:8080/"
        },
        "id": "4UVJa9rH1TuI",
        "outputId": "dda24250-f17e-4d99-fa8c-102195b052fd"
      },
      "source": [
        "#import the pandas library\n",
        "import pandas as pd\n",
        "\n",
        "ipl_data= {'Team':['riders','riders','devils','devils','kings','kings','kings','kings','riders','royals','royals','riders'],\n",
        "           'Rank':[1,2,2,3,3,4,1,1,2,4,1,2],\n",
        "           'Year':[2014,2015,2014,2015,2014,2015,2016,2017,2016,2014,2015,2017],\n",
        "           'Points':[876,789,863,673,741,812,756,788,694,701,804,690]}\n",
        "df=pd.DataFrame(ipl_data)\n",
        "grouped=df.groupby('Year')\n",
        "print(grouped.get_group(2014))"
      ],
      "execution_count": 5,
      "outputs": [
        {
          "output_type": "stream",
          "text": [
            "     Team  Rank  Year  Points\n",
            "0  riders     1  2014     876\n",
            "2  devils     2  2014     863\n",
            "4   kings     3  2014     741\n",
            "9  royals     4  2014     701\n"
          ],
          "name": "stdout"
        }
      ]
    },
    {
      "cell_type": "code",
      "metadata": {
        "colab": {
          "base_uri": "https://localhost:8080/"
        },
        "id": "hnJzXc2l15le",
        "outputId": "20124e77-a309-4981-8f52-3a721e83fe2b"
      },
      "source": [
        "#import the pandas library\n",
        "import pandas as pd\n",
        "import numpy as np\n",
        "\n",
        "ipl_data= {'Team':['riders','riders','devils','devils','kings','kings','kings','kings','riders','royals','royals','riders'],\n",
        "           'Rank':[1,2,2,3,3,4,1,1,2,4,1,2],\n",
        "           'Year':[2014,2015,2014,2015,2014,2015,2016,2017,2016,2014,2015,2017],\n",
        "           'Points':[876,789,863,673,741,812,756,788,694,701,804,690]}\n",
        "df=pd.DataFrame(ipl_data)\n",
        "\n",
        "grouped=df.groupby('Year')\n",
        "print(grouped['Points'].agg(np.mean))"
      ],
      "execution_count": 6,
      "outputs": [
        {
          "output_type": "stream",
          "text": [
            "Year\n",
            "2014    795.25\n",
            "2015    769.50\n",
            "2016    725.00\n",
            "2017    739.00\n",
            "Name: Points, dtype: float64\n"
          ],
          "name": "stdout"
        }
      ]
    },
    {
      "cell_type": "code",
      "metadata": {
        "colab": {
          "base_uri": "https://localhost:8080/"
        },
        "id": "l9VQvVkS2TFG",
        "outputId": "93e28255-a8b1-40ed-a2f8-936caa676837"
      },
      "source": [
        "#import the pandas library\n",
        "import pandas as pd\n",
        "import numpy as np\n",
        "\n",
        "ipl_data= {'Team':['riders','riders','devils','devils','kings','kings','kings','kings','riders','royals','royals','riders'],\n",
        "           'Rank':[1,2,2,3,3,4,1,1,2,4,1,2],\n",
        "           'Year':[2014,2015,2014,2015,2014,2015,2016,2017,2016,2014,2015,2017],\n",
        "           'Points':[876,789,863,673,741,812,756,788,694,701,804,690]}\n",
        "df=pd.DataFrame(ipl_data)\n",
        "\n",
        "#attribute access in python pandas\n",
        "grouped=df.groupby('Team')\n",
        "print(grouped.agg(np.size))"
      ],
      "execution_count": 7,
      "outputs": [
        {
          "output_type": "stream",
          "text": [
            "        Rank  Year  Points\n",
            "Team                      \n",
            "devils     2     2       2\n",
            "kings      4     4       4\n",
            "riders     4     4       4\n",
            "royals     2     2       2\n"
          ],
          "name": "stdout"
        }
      ]
    },
    {
      "cell_type": "code",
      "metadata": {
        "colab": {
          "base_uri": "https://localhost:8080/"
        },
        "id": "8bdUxrqB2rey",
        "outputId": "1f32bd12-6eba-4b15-ecfe-81c948867193"
      },
      "source": [
        "#import the pandas library\n",
        "import pandas as pd\n",
        "import numpy as np\n",
        "\n",
        "ipl_data= {'Team':['riders','riders','devils','devils','kings','kings','kings','kings','riders','royals','royals','riders'],\n",
        "           'Rank':[1,2,2,3,3,4,1,1,2,4,1,2],\n",
        "           'Year':[2014,2015,2014,2015,2014,2015,2016,2017,2016,2014,2015,2017],\n",
        "           'Points':[876,789,863,673,741,812,756,788,694,701,804,690]}\n",
        "df=pd.DataFrame(ipl_data)\n",
        "\n",
        "grouped=df.groupby('Team')\n",
        "print(grouped['Points'].agg([np.sum, np.mean, np.std]))"
      ],
      "execution_count": 8,
      "outputs": [
        {
          "output_type": "stream",
          "text": [
            "         sum    mean         std\n",
            "Team                            \n",
            "devils  1536  768.00  134.350288\n",
            "kings   3097  774.25   31.899582\n",
            "riders  3049  762.25   88.567771\n",
            "royals  1505  752.50   72.831998\n"
          ],
          "name": "stdout"
        }
      ]
    },
    {
      "cell_type": "code",
      "metadata": {
        "colab": {
          "base_uri": "https://localhost:8080/"
        },
        "id": "QW0nLP-D26yO",
        "outputId": "1eec6e0a-7d92-4ae4-acf4-851a142da4f2"
      },
      "source": [
        "#import the pandas library\n",
        "import pandas as pd\n",
        "import numpy as np\n",
        "\n",
        "ipl_data= {'Team':['riders','riders','devils','devils','kings','kings','kings','kings','riders','royals','royals','riders'],\n",
        "           'Rank':[1,2,2,3,3,4,1,1,2,4,1,2],\n",
        "           'Year':[2014,2015,2014,2015,2014,2015,2016,2017,2016,2014,2015,2017],\n",
        "           'Points':[876,789,863,673,741,812,756,788,694,701,804,690]}\n",
        "df=pd.DataFrame(ipl_data)\n",
        "\n",
        "grouped=df.groupby('Team')\n",
        "score=lambda x:(x-x.mean())/x.std()*10\n",
        "print(grouped.transform(score))"
      ],
      "execution_count": 9,
      "outputs": [
        {
          "output_type": "stream",
          "text": [
            "         Rank       Year     Points\n",
            "0  -15.000000 -11.618950  12.843272\n",
            "1    5.000000  -3.872983   3.020286\n",
            "2   -7.071068  -7.071068   7.071068\n",
            "3    7.071068   7.071068  -7.071068\n",
            "4    5.000000 -11.618950 -10.423334\n",
            "5   11.666667  -3.872983  11.834011\n",
            "6   -8.333333   3.872983  -5.721078\n",
            "7   -8.333333  11.618950   4.310401\n",
            "8    5.000000   3.872983  -7.705963\n",
            "9    7.071068  -7.071068  -7.071068\n",
            "10  -7.071068   7.071068   7.071068\n",
            "11   5.000000  11.618950  -8.157595\n"
          ],
          "name": "stdout"
        }
      ]
    },
    {
      "cell_type": "code",
      "metadata": {
        "id": "7ageFXZ_3RZo",
        "outputId": "21342edc-99e0-4609-feb8-635cb9d0f0f5",
        "colab": {
          "base_uri": "https://localhost:8080/"
        }
      },
      "source": [
        "#import the pandas library\n",
        "import pandas as pd\n",
        "import numpy as np\n",
        "\n",
        "ipl_data= {'Team':['riders','riders','devils','devils','kings','kings','kings','kings','riders','royals','royals','riders'],\n",
        "           'Rank':[1,2,2,3,3,4,1,1,2,4,1,2],\n",
        "           'Year':[2014,2015,2014,2015,2014,2015,2016,2017,2016,2014,2015,2017],\n",
        "           'Points':[876,789,863,673,741,812,756,788,694,701,804,690]}\n",
        "df=pd.DataFrame(ipl_data)\n",
        "\n",
        "print(df.groupby('Team').filter(lambda x:len(x)>=3))"
      ],
      "execution_count": 10,
      "outputs": [
        {
          "output_type": "stream",
          "text": [
            "      Team  Rank  Year  Points\n",
            "0   riders     1  2014     876\n",
            "1   riders     2  2015     789\n",
            "4    kings     3  2014     741\n",
            "5    kings     4  2015     812\n",
            "6    kings     1  2016     756\n",
            "7    kings     1  2017     788\n",
            "8   riders     2  2016     694\n",
            "11  riders     2  2017     690\n"
          ],
          "name": "stdout"
        }
      ]
    }
  ]
}