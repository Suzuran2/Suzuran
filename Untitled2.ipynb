{
  "nbformat": 4,
  "nbformat_minor": 0,
  "metadata": {
    "colab": {
      "name": "Untitled2.ipynb",
      "provenance": [],
      "authorship_tag": "ABX9TyN26DTtsBMltHcIFoKMdKad",
      "include_colab_link": true
    },
    "kernelspec": {
      "name": "python3",
      "display_name": "Python 3"
    }
  },
  "cells": [
    {
      "cell_type": "markdown",
      "metadata": {
        "id": "view-in-github",
        "colab_type": "text"
      },
      "source": [
        "<a href=\"https://colab.research.google.com/github/TakiyaGenji2/Suzuran/blob/main/Untitled2.ipynb\" target=\"_parent\"><img src=\"https://colab.research.google.com/assets/colab-badge.svg\" alt=\"Open In Colab\"/></a>"
      ]
    },
    {
      "cell_type": "code",
      "metadata": {
        "colab": {
          "base_uri": "https://localhost:8080/"
        },
        "id": "5Icy2Wtow-0n",
        "outputId": "33b41a35-c298-43b7-e926-4fc1e7b591d9"
      },
      "source": [
        "#import the pandas Library\n",
        "import pandas as pd\n",
        "\n",
        "ipl_data= {'Team':['riders','riders','devils','devils','kings','kings','kings','kings','riders','royals','royals','riders'],\n",
        "           'Rank':[1,2,2,3,3,4,1,1,2,4,1,2],\n",
        "           'Year':[2014,2015,2014,2015,2014,2015,2016,2017,2016,2014,2015,2017],\n",
        "           'Points':[876,789,863,673,741,812,756,788,694,701,804,690]}\n",
        "df=pd.DataFrame(ipl_data)\n",
        "print(df)"
      ],
      "execution_count": null,
      "outputs": [
        {
          "output_type": "stream",
          "text": [
            "      Team  Rank  Year  Points\n",
            "0   riders     1  2014     876\n",
            "1   riders     2  2015     789\n",
            "2   devils     2  2014     863\n",
            "3   devils     3  2015     673\n",
            "4    kings     3  2014     741\n",
            "5    kings     4  2015     812\n",
            "6    kings     1  2016     756\n",
            "7    kings     1  2017     788\n",
            "8   riders     2  2016     694\n",
            "9   royals     4  2014     701\n",
            "10  royals     1  2015     804\n",
            "11  riders     2  2017     690\n"
          ],
          "name": "stdout"
        }
      ]
    },
    {
      "cell_type": "code",
      "metadata": {
        "id": "WzS15yoHzRNY",
        "outputId": "2086bb5b-7ef0-4a06-cd05-ae5eedc1251b",
        "colab": {
          "base_uri": "https://localhost:8080/"
        }
      },
      "source": [
        "#import the pandas library\n",
        "import pandas as pd\n",
        "\n",
        "ipl_data= {'Team':['riders','riders','devils','devils','kings','kings','kings','kings','riders','royals','royals','riders'],\n",
        "           'Rank':[1,2,2,3,3,4,1,1,2,4,1,2],\n",
        "           'Year':[2014,2015,2014,2015,2014,2015,2016,2017,2016,2014,2015,2017],\n",
        "           'Points':[876,789,863,673,741,812,756,788,694,701,804,690]}\n",
        "df=pd.DataFrame(ipl_data)\n",
        "print(df.groupby('Team').groups)"
      ],
      "execution_count": 1,
      "outputs": [
        {
          "output_type": "stream",
          "text": [
            "{'devils': [2, 3], 'kings': [4, 5, 6, 7], 'riders': [0, 1, 8, 11], 'royals': [9, 10]}\n"
          ],
          "name": "stdout"
        }
      ]
    }
  ]
}