{
  "nbformat": 4,
  "nbformat_minor": 0,
  "metadata": {
    "colab": {
      "name": "Untitled2.ipynb",
      "provenance": [],
      "include_colab_link": true
    },
    "kernelspec": {
      "name": "python3",
      "display_name": "Python 3"
    }
  },
  "cells": [
    {
      "cell_type": "markdown",
      "metadata": {
        "id": "view-in-github",
        "colab_type": "text"
      },
      "source": [
        "<a href=\"https://colab.research.google.com/github/TakiyaGenji2/Suzuran/blob/main/Untitled2.ipynb\" target=\"_parent\"><img src=\"https://colab.research.google.com/assets/colab-badge.svg\" alt=\"Open In Colab\"/></a>"
      ]
    },
    {
      "cell_type": "code",
      "metadata": {
        "colab": {
          "base_uri": "https://localhost:8080/"
        },
        "id": "5Icy2Wtow-0n",
        "outputId": "33b41a35-c298-43b7-e926-4fc1e7b591d9"
      },
      "source": [
        "#import the pandas Library\n",
        "import pandas as pd\n",
        "\n",
        "ipl_data= {'Team':['riders','riders','devils','devils','kings','kings','kings','kings','riders','royals','royals','riders'],\n",
        "           'Rank':[1,2,2,3,3,4,1,1,2,4,1,2],\n",
        "           'Year':[2014,2015,2014,2015,2014,2015,2016,2017,2016,2014,2015,2017],\n",
        "           'Points':[876,789,863,673,741,812,756,788,694,701,804,690]}\n",
        "df=pd.DataFrame(ipl_data)\n",
        "print(df)"
      ],
      "execution_count": null,
      "outputs": [
        {
          "output_type": "stream",
          "text": [
            "      Team  Rank  Year  Points\n",
            "0   riders     1  2014     876\n",
            "1   riders     2  2015     789\n",
            "2   devils     2  2014     863\n",
            "3   devils     3  2015     673\n",
            "4    kings     3  2014     741\n",
            "5    kings     4  2015     812\n",
            "6    kings     1  2016     756\n",
            "7    kings     1  2017     788\n",
            "8   riders     2  2016     694\n",
            "9   royals     4  2014     701\n",
            "10  royals     1  2015     804\n",
            "11  riders     2  2017     690\n"
          ],
          "name": "stdout"
        }
      ]
    },
    {
      "cell_type": "code",
      "metadata": {
        "colab": {
          "base_uri": "https://localhost:8080/"
        },
        "id": "WzS15yoHzRNY",
        "outputId": "2086bb5b-7ef0-4a06-cd05-ae5eedc1251b"
      },
      "source": [
        "#import the pandas library\n",
        "import pandas as pd\n",
        "\n",
        "ipl_data= {'Team':['riders','riders','devils','devils','kings','kings','kings','kings','riders','royals','royals','riders'],\n",
        "           'Rank':[1,2,2,3,3,4,1,1,2,4,1,2],\n",
        "           'Year':[2014,2015,2014,2015,2014,2015,2016,2017,2016,2014,2015,2017],\n",
        "           'Points':[876,789,863,673,741,812,756,788,694,701,804,690]}\n",
        "df=pd.DataFrame(ipl_data)\n",
        "print(df.groupby('Team').groups)"
      ],
      "execution_count": null,
      "outputs": [
        {
          "output_type": "stream",
          "text": [
            "{'devils': [2, 3], 'kings': [4, 5, 6, 7], 'riders': [0, 1, 8, 11], 'royals': [9, 10]}\n"
          ],
          "name": "stdout"
        }
      ]
    },
    {
      "cell_type": "code",
      "metadata": {
        "colab": {
          "base_uri": "https://localhost:8080/"
        },
        "id": "v7FWQL8t0P5a",
        "outputId": "af10b771-86c0-4147-b7b1-724d2b45a945"
      },
      "source": [
        "#import the pandas library\n",
        "import pandas as pd\n",
        "\n",
        "ipl_data= {'Team':['riders','riders','devils','devils','kings','kings','kings','kings','riders','royals','royals','riders'],\n",
        "           'Rank':[1,2,2,3,3,4,1,1,2,4,1,2],\n",
        "           'Year':[2014,2015,2014,2015,2014,2015,2016,2017,2016,2014,2015,2017],\n",
        "           'Points':[876,789,863,673,741,812,756,788,694,701,804,690]}\n",
        "df=pd.DataFrame(ipl_data)\n",
        "print(df.groupby(['Team','Year']).groups)"
      ],
      "execution_count": null,
      "outputs": [
        {
          "output_type": "stream",
          "text": [
            "{('devils', 2014): [2], ('devils', 2015): [3], ('kings', 2014): [4], ('kings', 2015): [5], ('kings', 2016): [6], ('kings', 2017): [7], ('riders', 2014): [0], ('riders', 2015): [1], ('riders', 2016): [8], ('riders', 2017): [11], ('royals', 2014): [9], ('royals', 2015): [10]}\n"
          ],
          "name": "stdout"
        }
      ]
    },
    {
      "cell_type": "code",
      "metadata": {
        "colab": {
          "base_uri": "https://localhost:8080/"
        },
        "id": "p6gALX4w0wwV",
        "outputId": "4cae6447-62d6-4531-9256-54f36a6a9611"
      },
      "source": [
        "#import the pandas library\n",
        "import pandas as pd\n",
        "\n",
        "ipl_data= {'Team':['riders','riders','devils','devils','kings','kings','kings','kings','riders','royals','royals','riders'],\n",
        "           'Rank':[1,2,2,3,3,4,1,1,2,4,1,2],\n",
        "           'Year':[2014,2015,2014,2015,2014,2015,2016,2017,2016,2014,2015,2017],\n",
        "           'Points':[876,789,863,673,741,812,756,788,694,701,804,690]}\n",
        "df=pd.DataFrame(ipl_data)\n",
        "grouped=df.groupby('Year')\n",
        "\n",
        "for name,group in grouped:\n",
        "  print(name)\n",
        "  print(group)"
      ],
      "execution_count": null,
      "outputs": [
        {
          "output_type": "stream",
          "text": [
            "2014\n",
            "     Team  Rank  Year  Points\n",
            "0  riders     1  2014     876\n",
            "2  devils     2  2014     863\n",
            "4   kings     3  2014     741\n",
            "9  royals     4  2014     701\n",
            "2015\n",
            "      Team  Rank  Year  Points\n",
            "1   riders     2  2015     789\n",
            "3   devils     3  2015     673\n",
            "5    kings     4  2015     812\n",
            "10  royals     1  2015     804\n",
            "2016\n",
            "     Team  Rank  Year  Points\n",
            "6   kings     1  2016     756\n",
            "8  riders     2  2016     694\n",
            "2017\n",
            "      Team  Rank  Year  Points\n",
            "7    kings     1  2017     788\n",
            "11  riders     2  2017     690\n"
          ],
          "name": "stdout"
        }
      ]
    },
    {
      "cell_type": "code",
      "metadata": {
        "colab": {
          "base_uri": "https://localhost:8080/"
        },
        "id": "4UVJa9rH1TuI",
        "outputId": "dda24250-f17e-4d99-fa8c-102195b052fd"
      },
      "source": [
        "#import the pandas library\n",
        "import pandas as pd\n",
        "\n",
        "ipl_data= {'Team':['riders','riders','devils','devils','kings','kings','kings','kings','riders','royals','royals','riders'],\n",
        "           'Rank':[1,2,2,3,3,4,1,1,2,4,1,2],\n",
        "           'Year':[2014,2015,2014,2015,2014,2015,2016,2017,2016,2014,2015,2017],\n",
        "           'Points':[876,789,863,673,741,812,756,788,694,701,804,690]}\n",
        "df=pd.DataFrame(ipl_data)\n",
        "grouped=df.groupby('Year')\n",
        "print(grouped.get_group(2014))"
      ],
      "execution_count": null,
      "outputs": [
        {
          "output_type": "stream",
          "text": [
            "     Team  Rank  Year  Points\n",
            "0  riders     1  2014     876\n",
            "2  devils     2  2014     863\n",
            "4   kings     3  2014     741\n",
            "9  royals     4  2014     701\n"
          ],
          "name": "stdout"
        }
      ]
    },
    {
      "cell_type": "code",
      "metadata": {
        "colab": {
          "base_uri": "https://localhost:8080/"
        },
        "id": "hnJzXc2l15le",
        "outputId": "20124e77-a309-4981-8f52-3a721e83fe2b"
      },
      "source": [
        "#import the pandas library\n",
        "import pandas as pd\n",
        "import numpy as np\n",
        "\n",
        "ipl_data= {'Team':['riders','riders','devils','devils','kings','kings','kings','kings','riders','royals','royals','riders'],\n",
        "           'Rank':[1,2,2,3,3,4,1,1,2,4,1,2],\n",
        "           'Year':[2014,2015,2014,2015,2014,2015,2016,2017,2016,2014,2015,2017],\n",
        "           'Points':[876,789,863,673,741,812,756,788,694,701,804,690]}\n",
        "df=pd.DataFrame(ipl_data)\n",
        "\n",
        "grouped=df.groupby('Year')\n",
        "print(grouped['Points'].agg(np.mean))"
      ],
      "execution_count": null,
      "outputs": [
        {
          "output_type": "stream",
          "text": [
            "Year\n",
            "2014    795.25\n",
            "2015    769.50\n",
            "2016    725.00\n",
            "2017    739.00\n",
            "Name: Points, dtype: float64\n"
          ],
          "name": "stdout"
        }
      ]
    },
    {
      "cell_type": "code",
      "metadata": {
        "colab": {
          "base_uri": "https://localhost:8080/"
        },
        "id": "l9VQvVkS2TFG",
        "outputId": "93e28255-a8b1-40ed-a2f8-936caa676837"
      },
      "source": [
        "#import the pandas library\n",
        "import pandas as pd\n",
        "import numpy as np\n",
        "\n",
        "ipl_data= {'Team':['riders','riders','devils','devils','kings','kings','kings','kings','riders','royals','royals','riders'],\n",
        "           'Rank':[1,2,2,3,3,4,1,1,2,4,1,2],\n",
        "           'Year':[2014,2015,2014,2015,2014,2015,2016,2017,2016,2014,2015,2017],\n",
        "           'Points':[876,789,863,673,741,812,756,788,694,701,804,690]}\n",
        "df=pd.DataFrame(ipl_data)\n",
        "\n",
        "#attribute access in python pandas\n",
        "grouped=df.groupby('Team')\n",
        "print(grouped.agg(np.size))"
      ],
      "execution_count": null,
      "outputs": [
        {
          "output_type": "stream",
          "text": [
            "        Rank  Year  Points\n",
            "Team                      \n",
            "devils     2     2       2\n",
            "kings      4     4       4\n",
            "riders     4     4       4\n",
            "royals     2     2       2\n"
          ],
          "name": "stdout"
        }
      ]
    },
    {
      "cell_type": "code",
      "metadata": {
        "colab": {
          "base_uri": "https://localhost:8080/"
        },
        "id": "8bdUxrqB2rey",
        "outputId": "1f32bd12-6eba-4b15-ecfe-81c948867193"
      },
      "source": [
        "#import the pandas library\n",
        "import pandas as pd\n",
        "import numpy as np\n",
        "\n",
        "ipl_data= {'Team':['riders','riders','devils','devils','kings','kings','kings','kings','riders','royals','royals','riders'],\n",
        "           'Rank':[1,2,2,3,3,4,1,1,2,4,1,2],\n",
        "           'Year':[2014,2015,2014,2015,2014,2015,2016,2017,2016,2014,2015,2017],\n",
        "           'Points':[876,789,863,673,741,812,756,788,694,701,804,690]}\n",
        "df=pd.DataFrame(ipl_data)\n",
        "\n",
        "grouped=df.groupby('Team')\n",
        "print(grouped['Points'].agg([np.sum, np.mean, np.std]))"
      ],
      "execution_count": null,
      "outputs": [
        {
          "output_type": "stream",
          "text": [
            "         sum    mean         std\n",
            "Team                            \n",
            "devils  1536  768.00  134.350288\n",
            "kings   3097  774.25   31.899582\n",
            "riders  3049  762.25   88.567771\n",
            "royals  1505  752.50   72.831998\n"
          ],
          "name": "stdout"
        }
      ]
    },
    {
      "cell_type": "code",
      "metadata": {
        "colab": {
          "base_uri": "https://localhost:8080/"
        },
        "id": "QW0nLP-D26yO",
        "outputId": "1eec6e0a-7d92-4ae4-acf4-851a142da4f2"
      },
      "source": [
        "#import the pandas library\n",
        "import pandas as pd\n",
        "import numpy as np\n",
        "\n",
        "ipl_data= {'Team':['riders','riders','devils','devils','kings','kings','kings','kings','riders','royals','royals','riders'],\n",
        "           'Rank':[1,2,2,3,3,4,1,1,2,4,1,2],\n",
        "           'Year':[2014,2015,2014,2015,2014,2015,2016,2017,2016,2014,2015,2017],\n",
        "           'Points':[876,789,863,673,741,812,756,788,694,701,804,690]}\n",
        "df=pd.DataFrame(ipl_data)\n",
        "\n",
        "grouped=df.groupby('Team')\n",
        "score=lambda x:(x-x.mean())/x.std()*10\n",
        "print(grouped.transform(score))"
      ],
      "execution_count": null,
      "outputs": [
        {
          "output_type": "stream",
          "text": [
            "         Rank       Year     Points\n",
            "0  -15.000000 -11.618950  12.843272\n",
            "1    5.000000  -3.872983   3.020286\n",
            "2   -7.071068  -7.071068   7.071068\n",
            "3    7.071068   7.071068  -7.071068\n",
            "4    5.000000 -11.618950 -10.423334\n",
            "5   11.666667  -3.872983  11.834011\n",
            "6   -8.333333   3.872983  -5.721078\n",
            "7   -8.333333  11.618950   4.310401\n",
            "8    5.000000   3.872983  -7.705963\n",
            "9    7.071068  -7.071068  -7.071068\n",
            "10  -7.071068   7.071068   7.071068\n",
            "11   5.000000  11.618950  -8.157595\n"
          ],
          "name": "stdout"
        }
      ]
    },
    {
      "cell_type": "code",
      "metadata": {
        "colab": {
          "base_uri": "https://localhost:8080/"
        },
        "id": "7ageFXZ_3RZo",
        "outputId": "21342edc-99e0-4609-feb8-635cb9d0f0f5"
      },
      "source": [
        "#import the pandas library\n",
        "import pandas as pd\n",
        "import numpy as np\n",
        "\n",
        "ipl_data= {'Team':['riders','riders','devils','devils','kings','kings','kings','kings','riders','royals','royals','riders'],\n",
        "           'Rank':[1,2,2,3,3,4,1,1,2,4,1,2],\n",
        "           'Year':[2014,2015,2014,2015,2014,2015,2016,2017,2016,2014,2015,2017],\n",
        "           'Points':[876,789,863,673,741,812,756,788,694,701,804,690]}\n",
        "df=pd.DataFrame(ipl_data)\n",
        "\n",
        "print(df.groupby('Team').filter(lambda x:len(x)>=3))"
      ],
      "execution_count": null,
      "outputs": [
        {
          "output_type": "stream",
          "text": [
            "      Team  Rank  Year  Points\n",
            "0   riders     1  2014     876\n",
            "1   riders     2  2015     789\n",
            "4    kings     3  2014     741\n",
            "5    kings     4  2015     812\n",
            "6    kings     1  2016     756\n",
            "7    kings     1  2017     788\n",
            "8   riders     2  2016     694\n",
            "11  riders     2  2017     690\n"
          ],
          "name": "stdout"
        }
      ]
    },
    {
      "cell_type": "code",
      "metadata": {
        "colab": {
          "base_uri": "https://localhost:8080/"
        },
        "id": "XRoDE6Ft3rpQ",
        "outputId": "fc265b16-c0da-4066-b039-7b791b84c3aa"
      },
      "source": [
        "def multiply(x):\n",
        "  return x*x\n",
        "def add(x):\n",
        "  return x+x\n",
        "\n",
        "funcs=[multiply,add]\n",
        "for i in range(5):\n",
        "  value=list(map(lambda x:x(i),funcs))\n",
        "  print(value)"
      ],
      "execution_count": null,
      "outputs": [
        {
          "output_type": "stream",
          "text": [
            "[0, 0]\n",
            "[1, 2]\n",
            "[4, 4]\n",
            "[9, 6]\n",
            "[16, 8]\n"
          ],
          "name": "stdout"
        }
      ]
    },
    {
      "cell_type": "code",
      "metadata": {
        "id": "HJZLBY3d4Lj5",
        "colab": {
          "base_uri": "https://localhost:8080/"
        },
        "outputId": "002abaac-f41c-4aa1-e795-6e6d6442f553"
      },
      "source": [
        "#List alfabet\n",
        "alfabet=['a','b','c','e','i','k','o','z']\n",
        "#fungsi penyaring huruf vokal\n",
        "def filter_vocal(alfabet):\n",
        "  vocal=['a','i','u','e','o']\n",
        "  if alfabet in vocal:\n",
        "    return True\n",
        "  else:\n",
        "    return False\n",
        "\n",
        "vocal_terfilter=filter(filter_vocal, alfabet)\n",
        "print('Huruf vocal yang tersaring adalah :')\n",
        "for vocal in vocal_terfilter:\n",
        "  print(vocal)"
      ],
      "execution_count": null,
      "outputs": [
        {
          "output_type": "stream",
          "text": [
            "Huruf vocal yang tersaring adalah :\n",
            "a\n",
            "e\n",
            "i\n",
            "o\n"
          ],
          "name": "stdout"
        }
      ]
    },
    {
      "cell_type": "code",
      "metadata": {
        "colab": {
          "base_uri": "https://localhost:8080/"
        },
        "id": "EOmr0iHR51cU",
        "outputId": "41e4be5a-3ea6-4ffb-fc06-7a3574916988"
      },
      "source": [
        "#Python code to demonstrate working of\n",
        "#heapyfy(), heappush(), and heappop()\n",
        "#importing,\"heapq\" to implement heap queue\n",
        "import heapq\n",
        "#initializing list\n",
        "li = [5, 7, 9, 1, 3, 7]\n",
        "#Using heapify to convert list into heap\n",
        "heapq.heapify(li)\n",
        "#printing created heap\n",
        "print (\"The created heap is :\", end=\"\")\n",
        "print (list(li))\n",
        "\n",
        "#using heappush() to push elemnets into heap\n",
        "#pushes 4\n",
        "heapq.heappush(li,4)\n",
        "\n",
        "#printing modified heap\n",
        "print (\"The modified heap after push is :\", end=\"\")\n",
        "print (list(li))\n",
        "\n",
        "#using heappop() to pop smallest element\n",
        "print (\"The popped and smallest element is :\", end=\"\")\n",
        "print (heapq.heappop(li))"
      ],
      "execution_count": null,
      "outputs": [
        {
          "output_type": "stream",
          "text": [
            "The created heap is :[1, 3, 7, 7, 5, 9]\n",
            "The modified heap after push is :[1, 3, 4, 7, 5, 9, 7]\n",
            "The popped and smallest element is :1\n"
          ],
          "name": "stdout"
        }
      ]
    },
    {
      "cell_type": "code",
      "metadata": {
        "colab": {
          "base_uri": "https://localhost:8080/"
        },
        "id": "ZTGb5wJN7Fgf",
        "outputId": "3e5966c2-0f9d-465c-f472-2b96199a3df5"
      },
      "source": [
        "#python code to cemonstrate working of\n",
        "#Heappushpop() and heapreplace()\n",
        "\n",
        "#importing \"heapq\" to implement heap queue\n",
        "import heapq\n",
        "\n",
        "#initializing list 1\n",
        "li1 = [5, 6, 8, 4, 3]\n",
        "\n",
        "#initializing list 2\n",
        "li2 = [5, 6, 8, 4, 3]\n",
        "#Using heapify() to convert list into heap\n",
        "heapq.heapify(li1)\n",
        "heapq.heapify(li2)\n",
        "#using heappushpop() to push and pop items simultaneosly\n",
        "#pops 2\n",
        "print (\"The popped item using heappushpop() is :\", end=\"\")\n",
        "print (heapq.heappushpop(li1, 2))\n",
        "#using heapreplace() to push and pop items simulateously \n",
        "#pops 3\n",
        "print (\"The popped item using heapreplace () is:\", end =\"\")\n",
        "print (heapq.heapreplace(li2, 2))\n"
      ],
      "execution_count": 2,
      "outputs": [
        {
          "output_type": "stream",
          "text": [
            "The popped item using heappushpop() is :2\n",
            "The popped item using heapreplace () is:3\n"
          ],
          "name": "stdout"
        }
      ]
    },
    {
      "cell_type": "code",
      "metadata": {
        "colab": {
          "base_uri": "https://localhost:8080/"
        },
        "id": "WIy94_7g7JJ0",
        "outputId": "8341e502-f4cd-4ab5-ad8b-c13accd2434e"
      },
      "source": [
        "#python code to cemonstrate working of\n",
        "#nlargest() and nsmallest\n",
        "\n",
        "#importing \"heapq\" to implement heap  queue\n",
        "import heapq\n",
        "\n",
        "#initializing list\n",
        "li1 = [6, 8, 7, 8, 9, 4, 5, 2]\n",
        "\n",
        "#using heapify() to convert list into heap \n",
        "heapq.heapify(li1)\n",
        "\n",
        "#using nlargest to print 3 largest number\n",
        "print(\"The 3 largest numbers in list are :\", end= \"\")\n",
        "print(heapq.nlargest(3, li1))\n",
        "\n",
        "#using nsmallest to print 3 smallest numbers\n",
        "print (\"The 3 smallest number in list are : \", end=\"\")\n",
        "print(heapq.nsmallest(3, li1))"
      ],
      "execution_count": 3,
      "outputs": [
        {
          "output_type": "stream",
          "text": [
            "The 3 largest numbers in list are :[9, 8, 8]\n",
            "The 3 smallest number in list are : [2, 4, 5]\n"
          ],
          "name": "stdout"
        }
      ]
    },
    {
      "cell_type": "code",
      "metadata": {
        "id": "lgPlHIaC8V5g",
        "outputId": "2c3cb74e-eb3b-442b-ce7b-6afad4a81a88",
        "colab": {
          "base_uri": "https://localhost:8080/"
        }
      },
      "source": [
        "#Python program showing a use\n",
        "#lambda function\n",
        "\n",
        "#Performing a addition of three number\n",
        "x1 = (lambda x, y, z: (x  + y) * z) (1, 2, 4)\n",
        "print(x1)\n",
        "\n",
        "#function using a lambda function\n",
        "x2 = (lambda x, y, z: (x + y) if (z==0) else (x * y))(1, 2, 4)\n",
        "print(x2)"
      ],
      "execution_count": 4,
      "outputs": [
        {
          "output_type": "stream",
          "text": [
            "12\n",
            "2\n"
          ],
          "name": "stdout"
        }
      ]
    },
    {
      "cell_type": "code",
      "metadata": {
        "id": "vSo44qw49Cea",
        "outputId": "5a28928f-926b-4034-9a31-9d15b8698d3f",
        "colab": {
          "base_uri": "https://localhost:8080/"
        }
      },
      "source": [
        "#Python code to illustrate cube of a number \n",
        "#showing difference between def() and lambda()\n",
        "def cube(y):\n",
        "    return y*y*y;\n",
        "g = lambda x: x*x*x\n",
        "print(g(7))\n",
        "\n",
        "print(cube(6))"
      ],
      "execution_count": 5,
      "outputs": [
        {
          "output_type": "stream",
          "text": [
            "343\n",
            "216\n"
          ],
          "name": "stdout"
        }
      ]
    },
    {
      "cell_type": "code",
      "metadata": {
        "id": "pwVD0C-K9Jht",
        "outputId": "4a44332b-4f3b-4da8-c049-db5a1c5f3193",
        "colab": {
          "base_uri": "https://localhost:8080/"
        }
      },
      "source": [
        "#Python program performing \n",
        "#Operation using def()\n",
        "def fun(x,y,z):\n",
        "    return x*y-z\n",
        "a = 2\n",
        "b = 3\n",
        "d = 4\n",
        "\n",
        "#logical jump \n",
        "c = fun(a,b,d)\n",
        "print(c)\n",
        "\n",
        "#Python program performing\n",
        "#operation using lambda\n",
        "\n",
        "c = (lambda x, y, z: x*y-z)(2,3,4)\n",
        "print(c)"
      ],
      "execution_count": 6,
      "outputs": [
        {
          "output_type": "stream",
          "text": [
            "2\n",
            "2\n"
          ],
          "name": "stdout"
        }
      ]
    },
    {
      "cell_type": "code",
      "metadata": {
        "id": "Uo2LBQmP9PWD",
        "outputId": "e511d668-b67c-4188-8d74-cd141367fecc",
        "colab": {
          "base_uri": "https://localhost:8080/"
        }
      },
      "source": [
        "def func(x):\n",
        "    if x == 1:\n",
        "        return \"One\"\n",
        "    elif x == 2:\n",
        "        return \"Two\"\n",
        "    elif x == 3:\n",
        "        return \"Three\"\n",
        "    else:\n",
        "        return \"No\"\n",
        "num = func (3)\n",
        "print (num)\n",
        "\n",
        "#Python program showing use\n",
        "#of lambda function\n",
        "num = (lambda x: \"one\" if x == 1 else (\"two\" if x == 2\n",
        "                      else (\"Three\" if x == 3 else \"No\")))(3)\n",
        "print(num)"
      ],
      "execution_count": 7,
      "outputs": [
        {
          "output_type": "stream",
          "text": [
            "Three\n",
            "Three\n"
          ],
          "name": "stdout"
        }
      ]
    }
  ]
}