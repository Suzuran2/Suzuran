{
  "nbformat": 4,
  "nbformat_minor": 0,
  "metadata": {
    "colab": {
      "name": "Untitled1.ipynb",
      "provenance": [],
      "authorship_tag": "ABX9TyOwNPJhMtHKiy/8BM0/4AvP",
      "include_colab_link": true
    },
    "kernelspec": {
      "name": "python3",
      "display_name": "Python 3"
    }
  },
  "cells": [
    {
      "cell_type": "markdown",
      "metadata": {
        "id": "view-in-github",
        "colab_type": "text"
      },
      "source": [
        "<a href=\"https://colab.research.google.com/github/TakiyaGenji2/Suzuran/blob/main/jobsheet%205.ipynb\" target=\"_parent\"><img src=\"https://colab.research.google.com/assets/colab-badge.svg\" alt=\"Open In Colab\"/></a>"
      ]
    },
    {
      "cell_type": "code",
      "metadata": {
        "id": "uxcMej0C71Hy",
        "outputId": "6ca17760-ad9c-45c3-f5d9-d71780bf9ba4",
        "colab": {
          "base_uri": "https://localhost:8080/"
        }
      },
      "source": [
        "#Python program to demonstrate\n",
        "# Creation of Array\n",
        "# importing array\" for array creations\n",
        "import array as arr\n",
        "# creating an array with integer type\n",
        "a = arr.array('i', [1, 2, 3])\n",
        "# printing original array\n",
        "print (\"The new created array is : \", end =\" \")\n",
        "for i in range (0, 3):\n",
        "  print(a[i], end =\" \")\n",
        "print()\n",
        "\n"
      ],
      "execution_count": 2,
      "outputs": [
        {
          "output_type": "stream",
          "text": [
            "The new created array is :  1 2 3 \n"
          ],
          "name": "stdout"
        }
      ]
    },
    {
      "cell_type": "code",
      "metadata": {
        "id": "PGRJFGuvhYOh",
        "outputId": "1de2019c-99a1-4e79-835e-8889f961fa9b",
        "colab": {
          "base_uri": "https://localhost:8080/"
        }
      },
      "source": [
        "#Demonstrasi program python\n",
        "#Menambah elemen ke array\n",
        "\n",
        "#importing \"array\" for array creations\n",
        "import array as arr\n",
        "\n",
        "#Array with int type\n",
        "a = arr.array('i', [1, 2, 3]) \n",
        "\n",
        "print(\"Array before insertion : \", end =\" \")\n",
        "for i in range (0,3):\n",
        "\tprint(a[i], end =\" \")\n",
        " \n",
        "#Inserting array using\n",
        "#Insert() function\n",
        "a.insert(2, 4)\n",
        "\n",
        "print(\"\\n Array after insertion : \", end =\"  \")\n",
        "for i in (a):\n",
        "\tprint(i, end =\" \")\n",
        "print()"
      ],
      "execution_count": 4,
      "outputs": [
        {
          "output_type": "stream",
          "text": [
            "Array before insertion :  1 2 3 \n",
            " Array after insertion :   1 2 4 3 \n"
          ],
          "name": "stdout"
        }
      ]
    },
    {
      "cell_type": "code",
      "metadata": {
        "id": "OneFhmApjoEi"
      },
      "source": [
        ""
      ],
      "execution_count": null,
      "outputs": []
    },
    {
      "cell_type": "code",
      "metadata": {
        "id": "QXXF_G1yhslw"
      },
      "source": [
        ""
      ],
      "execution_count": null,
      "outputs": []
    }
  ]
}