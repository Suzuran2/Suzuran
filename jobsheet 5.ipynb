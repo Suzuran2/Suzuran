{
  "nbformat": 4,
  "nbformat_minor": 0,
  "metadata": {
    "colab": {
      "name": "Untitled1.ipynb",
      "provenance": [],
      "authorship_tag": "ABX9TyM5smKlK/NjXqipsc+Xx7gt",
      "include_colab_link": true
    },
    "kernelspec": {
      "name": "python3",
      "display_name": "Python 3"
    }
  },
  "cells": [
    {
      "cell_type": "markdown",
      "metadata": {
        "id": "view-in-github",
        "colab_type": "text"
      },
      "source": [
        "<a href=\"https://colab.research.google.com/github/TakiyaGenji2/Suzuran/blob/main/jobsheet%205.ipynb\" target=\"_parent\"><img src=\"https://colab.research.google.com/assets/colab-badge.svg\" alt=\"Open In Colab\"/></a>"
      ]
    },
    {
      "cell_type": "code",
      "metadata": {
        "id": "uxcMej0C71Hy",
        "outputId": "bbf578da-0c4e-417b-a881-16169fba7215",
        "colab": {
          "base_uri": "https://localhost:8080/"
        }
      },
      "source": [
        "#Python program to demonstrate\n",
        "# Creation of Array\n",
        "# importing array\" for array creations\n",
        "import array as arr\n",
        "# creating an array with integer type\n",
        "a = arr.array('i', [1, 2, 3])\n",
        "# printing original array\n",
        "print (\"The new created array is : \", end =\" \")\n",
        "for i in range (0, 3):\n",
        "  print(a[i], end =\" \")\n",
        "print()\n",
        "# creating an array with float type\n",
        "b = arr.array('d', [2.5, 3.2, 3.3])\n",
        "# printing original array\n",
        "print (\"The new created array is : \", end =\" \")\n",
        "for i in range (0, 3):\n",
        "  print(b[i], end =\" \")"
      ],
      "execution_count": null,
      "outputs": [
        {
          "output_type": "stream",
          "text": [
            "The new created array is :  1 2 3 \n",
            "The new created array is :  2.5 3.2 3.3 "
          ],
          "name": "stdout"
        }
      ]
    },
    {
      "cell_type": "code",
      "metadata": {
        "id": "PGRJFGuvhYOh",
        "outputId": "23c83ce8-d4bb-4039-e1d5-274547765e57",
        "colab": {
          "base_uri": "https://localhost:8080/"
        }
      },
      "source": [
        "#Demonstrasi program python\n",
        "#Menambah elemen ke array\n",
        "\n",
        "#importing \"array\" for array creations\n",
        "import array as arr\n",
        "\n",
        "#Array with int type\n",
        "a = arr.array('i', [1, 2, 3]) \n",
        "\n",
        "print(\"Array before insertion : \", end =\" \")\n",
        "for i in range (0,3):\n",
        "\tprint(a[i], end =\" \")\n",
        " \n",
        "#Inserting array using\n",
        "#Insert() function\n",
        "a.insert(2, 4)\n",
        "\n",
        "print(\"\\n Array after insertion : \", end =\"  \")\n",
        "for i in (a):\n",
        "\tprint(i, end =\" \")\n",
        "print()\n",
        "#Array with float type\n",
        "b= arr.array('d', [1.3, 2.3, 3.3]) \n",
        "\n",
        "print(\"Array before insertion : \", end =\" \")\n",
        "for i in range (0,3):\n",
        "\tprint(b[i], end =\" \")\n",
        "print()\n",
        "#Adding an elemnt using append()\n",
        "#Append() function\n",
        "b.append(4.3)\n",
        "\n",
        "print(\" Array after insertion : \", end =\" \")\n",
        "for i in (b):\n",
        "\tprint(i, end =\" \")\n",
        "print()"
      ],
      "execution_count": null,
      "outputs": [
        {
          "output_type": "stream",
          "text": [
            "Array before insertion :  1 2 3 \n",
            " Array after insertion :   1 2 4 3 \n",
            "Array before insertion :  1.3 2.3 3.3 \n",
            " Array after insertion :  1.3 2.3 3.3 4.3 \n"
          ],
          "name": "stdout"
        }
      ]
    },
    {
      "cell_type": "code",
      "metadata": {
        "id": "OneFhmApjoEi",
        "outputId": "42292433-0e81-4bd0-f802-c3ae85b77ada",
        "colab": {
          "base_uri": "https://localhost:8080/"
        }
      },
      "source": [
        "#Python program to demonstrate\n",
        "#Accessing of elemnt from list\n",
        "\n",
        "#Importing array module\n",
        "import array as arr\n",
        "#Array with int type\n",
        "a = arr.array('i', [5, 6, 7, 8, 9, 10])\n",
        "\n",
        "#Accessing elemnet of array\n",
        "print(\"Acces elemnt is: \", a[0])\n",
        "\n",
        "#Accesing element of array\n",
        "print(\"Acces element is: \", a[4])\n",
        "\n",
        "#Array with float type\n",
        "b = arr.array('d', [5.5, 6.6, 7.7, 8.8])\n",
        "\n",
        "#Accessing elemnet of array\n",
        "print(\"Acces elemnt is: \", b[0])\n",
        "\n",
        "\n",
        "#Accesing element of array\n",
        "print(\"Acces element is: \", b[2])"
      ],
      "execution_count": null,
      "outputs": [
        {
          "output_type": "stream",
          "text": [
            "Acces elemnt is:  5\n",
            "Acces element is:  9\n",
            "Acces elemnt is:  5.5\n",
            "Acces element is:  7.7\n"
          ],
          "name": "stdout"
        }
      ]
    },
    {
      "cell_type": "code",
      "metadata": {
        "id": "QXXF_G1yhslw",
        "outputId": "e6fe5d57-b87a-4a93-b311-7e715032c2fd",
        "colab": {
          "base_uri": "https://localhost:8080/"
        }
      },
      "source": [
        "#Python program to demomstrate\n",
        "#Removal of elemnets in a array\n",
        "\n",
        "#Importing \"array for array operations\n",
        "import array\n",
        "\n",
        "#initializing array with array values\n",
        "#initializes array with signed integers\n",
        "arr = array.array('i', [2,3,4,2,4])\n",
        "\n",
        "#Printing original array\n",
        "print (\"The new created array is : \", end =\"\")\n",
        "for i in range (0,5):\n",
        "\tprint (arr[i], end =\" \")\n",
        "\n",
        "print(\"\\r\")\n",
        "\n",
        "#Using pop() to remove element at 2nd position\n",
        "print (\"The popped element is : \", end =\"\")\n",
        "print (arr.pop(2))\n",
        "\n",
        "#Printing array after popping\n",
        "print (\"The array after popping is : \", end =\" \")\n",
        "for i in range (0, 4):\n",
        "\tprint (arr[i], end =\" \")\n",
        "\n",
        "print(\"\\r\")\n",
        "\n",
        "#Using remove() to 1st occurrence of 2\n",
        "arr.remove(2)\n",
        "\n",
        "#Printing array after removing\n",
        "print(\"The array after removing is : \", end =\"\")\n",
        "for i in range (0, 3):\n",
        "\tprint(arr[i], end =\" \")"
      ],
      "execution_count": null,
      "outputs": [
        {
          "output_type": "stream",
          "text": [
            "The new created array is : 2 3 4 2 4 \r\n",
            "The popped element is : 4\n",
            "The array after popping is :  2 3 2 4 \r\n",
            "The array after removing is : 3 2 4 "
          ],
          "name": "stdout"
        }
      ]
    },
    {
      "cell_type": "code",
      "metadata": {
        "id": "ZcKw911DhZdX",
        "outputId": "1272a921-9e5b-42dd-da71-67ab2f2e2858",
        "colab": {
          "base_uri": "https://localhost:8080/"
        }
      },
      "source": [
        "#Python program to demonstrate\n",
        "#Slicing of elements in Array\n",
        "\n",
        "#Importing array module\n",
        "import array as arr\n",
        "\n",
        "#creating a list\n",
        "l = [1, 2, 3, 4, 5, 6, 7, 8, 9, 10]\n",
        "\n",
        "a = arr.array('i',l)\n",
        "print(\"Initial Array: \")\n",
        "for i in a:\n",
        "\tprint(i, end =\" \")\n",
        "\n",
        "#Print elements of a range\n",
        "#Using slice operation\n",
        "Sliced_array = a[3:8]\n",
        "print(\"\\nSlicing elements in a range 3-8: \")\n",
        "print(Sliced_array)\n",
        "\n",
        "#Print element from a\n",
        "#Pre-defined point to end\n",
        "Sliced_array = a[5: ]\n",
        "print(\"\\nElements sliced from 5th \"\n",
        "\t\"element till the end: \")\n",
        "print(Sliced_array)\n",
        "\n",
        "#Printing elements from\n",
        "#Beginning till end\n",
        "Sliced_array = a[:]\n",
        "print(\"\\nPrinting all elements using slice operation:\")\n",
        "print(Sliced_array)"
      ],
      "execution_count": null,
      "outputs": [
        {
          "output_type": "stream",
          "text": [
            "Initial Array: \n",
            "1 2 3 4 5 6 7 8 9 10 \n",
            "Slicinf elements in a range 3-8: \n",
            "array('i', [4, 5, 6, 7, 8])\n",
            "\n",
            "Elements sliced from 5th element till the end: \n",
            "array('i', [6, 7, 8, 9, 10])\n",
            "\n",
            "Printing all elements using slice operation:\n",
            "array('i', [1, 2, 3, 4, 5, 6, 7, 8, 9, 10])\n"
          ],
          "name": "stdout"
        }
      ]
    },
    {
      "cell_type": "code",
      "metadata": {
        "id": "r90NmO6XhjdB",
        "outputId": "607e4080-2562-4f0e-ecbc-c697861e8ded",
        "colab": {
          "base_uri": "https://localhost:8080/"
        }
      },
      "source": [
        "#Membuat list\n",
        "foo = [\"Belajar\", \"Python\", \"di\", \"Duniailkom\" ]\n",
        "bar = [100, 200, 300, 400]\n",
        "baz = [\"Python\", 200, 6.99, True]\n",
        "print(type (foo))\n",
        "print(type (bar))\n",
        "print(type (baz))"
      ],
      "execution_count": null,
      "outputs": [
        {
          "output_type": "stream",
          "text": [
            "<class 'list'>\n",
            "<class 'list'>\n",
            "<class 'list'>\n"
          ],
          "name": "stdout"
        }
      ]
    },
    {
      "cell_type": "code",
      "metadata": {
        "id": "sWAz7wAUjoxa",
        "outputId": "0f5c914b-3a24-4652-d9a0-49a9249a6676",
        "colab": {
          "base_uri": "https://localhost:8080/"
        }
      },
      "source": [
        "#Mengakses list\n",
        "foo = [\"Python\", 199, 6.99, True, 'Duniailkom', 99j]\n",
        "print(foo[0])\n",
        "print(foo[1])\n",
        "print(foo[2])\n",
        "print(foo[3])\n",
        "print(foo[4])\n",
        "print(foo[5])"
      ],
      "execution_count": null,
      "outputs": [
        {
          "output_type": "stream",
          "text": [
            "Python\n",
            "199\n",
            "6.99\n",
            "True\n",
            "Duniailkom\n",
            "99j\n"
          ],
          "name": "stdout"
        }
      ]
    },
    {
      "cell_type": "code",
      "metadata": {
        "id": "uwVyBSDDneSo",
        "outputId": "94067be6-a56e-4e2c-ddd3-bb9212ff7912",
        "colab": {
          "base_uri": "https://localhost:8080/"
        }
      },
      "source": [
        "#Mengganti list\n",
        "foo = [\"Python\", 199, 6.99, True, 'Duniailkom', 99j]\n",
        "print(foo)\n",
        "foo[0] = 'Belajar'\n",
        "foo[3] = False\n",
        "print(foo)"
      ],
      "execution_count": 12,
      "outputs": [
        {
          "output_type": "stream",
          "text": [
            "['Python', 199, 6.99, True, 'Duniailkom', 99j]\n",
            "['Belajar', 199, 6.99, False, 'Duniailkom', 99j]\n"
          ],
          "name": "stdout"
        }
      ]
    }
  ]
}