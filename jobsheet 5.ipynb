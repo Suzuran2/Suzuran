{
  "nbformat": 4,
  "nbformat_minor": 0,
  "metadata": {
    "colab": {
      "name": "Untitled1.ipynb",
      "provenance": [],
      "authorship_tag": "ABX9TyPIGqiOBBfPEsLVI+xCm8gU",
      "include_colab_link": true
    },
    "kernelspec": {
      "name": "python3",
      "display_name": "Python 3"
    }
  },
  "cells": [
    {
      "cell_type": "markdown",
      "metadata": {
        "id": "view-in-github",
        "colab_type": "text"
      },
      "source": [
        "<a href=\"https://colab.research.google.com/github/TakiyaGenji2/Suzuran/blob/main/jobsheet%205.ipynb\" target=\"_parent\"><img src=\"https://colab.research.google.com/assets/colab-badge.svg\" alt=\"Open In Colab\"/></a>"
      ]
    },
    {
      "cell_type": "code",
      "metadata": {
        "id": "uxcMej0C71Hy",
        "outputId": "6ca17760-ad9c-45c3-f5d9-d71780bf9ba4",
        "colab": {
          "base_uri": "https://localhost:8080/"
        }
      },
      "source": [
        "#Python program to demonstrate\n",
        "# Creation of Array\n",
        "# importing array\" for array creations\n",
        "import array as arr\n",
        "# creating an array with integer type\n",
        "a = arr.array('i', [1, 2, 3])\n",
        "# printing original array\n",
        "print (\"The new created array is : \", end =\" \")\n",
        "for i in range (0, 3):\n",
        "  print(a[i], end =\" \")\n",
        "print()\n",
        "\n"
      ],
      "execution_count": null,
      "outputs": [
        {
          "output_type": "stream",
          "text": [
            "The new created array is :  1 2 3 \n"
          ],
          "name": "stdout"
        }
      ]
    },
    {
      "cell_type": "code",
      "metadata": {
        "id": "PGRJFGuvhYOh",
        "outputId": "1de2019c-99a1-4e79-835e-8889f961fa9b",
        "colab": {
          "base_uri": "https://localhost:8080/"
        }
      },
      "source": [
        "#Demonstrasi program python\n",
        "#Menambah elemen ke array\n",
        "\n",
        "#importing \"array\" for array creations\n",
        "import array as arr\n",
        "\n",
        "#Array with int type\n",
        "a = arr.array('i', [1, 2, 3]) \n",
        "\n",
        "print(\"Array before insertion : \", end =\" \")\n",
        "for i in range (0,3):\n",
        "\tprint(a[i], end =\" \")\n",
        " \n",
        "#Inserting array using\n",
        "#Insert() function\n",
        "a.insert(2, 4)\n",
        "\n",
        "print(\"\\n Array after insertion : \", end =\"  \")\n",
        "for i in (a):\n",
        "\tprint(i, end =\" \")\n",
        "print()"
      ],
      "execution_count": null,
      "outputs": [
        {
          "output_type": "stream",
          "text": [
            "Array before insertion :  1 2 3 \n",
            " Array after insertion :   1 2 4 3 \n"
          ],
          "name": "stdout"
        }
      ]
    },
    {
      "cell_type": "code",
      "metadata": {
        "id": "OneFhmApjoEi",
        "outputId": "447091e7-c960-4619-bafc-f490010f6589",
        "colab": {
          "base_uri": "https://localhost:8080/"
        }
      },
      "source": [
        "#Python program to demonstrate\n",
        "#Accessing of elemnt from list\n",
        "\n",
        "#Importing array module\n",
        "import array as arr\n",
        "#Array with int type\n",
        "a = arr.array('i', [5, 6, 7, 8, 9, 10])\n",
        "\n",
        "#Accessing elemnet of array\n",
        "print(\"Acces elemnt is: \", a[0])\n",
        "\n",
        "\n",
        "#Accesing element of array\n",
        "print(\"Acces element is: \", a[4])"
      ],
      "execution_count": 1,
      "outputs": [
        {
          "output_type": "stream",
          "text": [
            "Acces elemnt is:  5\n",
            "Acces element is:  9\n"
          ],
          "name": "stdout"
        }
      ]
    },
    {
      "cell_type": "code",
      "metadata": {
        "id": "QXXF_G1yhslw"
      },
      "source": [
        ""
      ],
      "execution_count": null,
      "outputs": []
    }
  ]
}